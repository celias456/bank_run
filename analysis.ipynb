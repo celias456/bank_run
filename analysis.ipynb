{
 "cells": [
  {
   "attachments": {},
   "cell_type": "markdown",
   "metadata": {},
   "source": [
    "Import the model and necessary libraries"
   ]
  },
  {
   "cell_type": "code",
   "execution_count": 1,
   "metadata": {
    "metadata": {}
   },
   "outputs": [],
   "source": [
    "import mesa\n",
    "import pandas as pd\n",
    "from model import BankRunModel"
   ]
  },
  {
   "attachments": {},
   "cell_type": "markdown",
   "metadata": {},
   "source": [
    "Run the model 1000 times with 120 steps for each run"
   ]
  },
  {
   "cell_type": "code",
   "execution_count": null,
   "metadata": {},
   "outputs": [],
   "source": [
    "params = {\"threshold\": \"Heterogeneous-normal\", \"social_shifting\": 0, \"social_reach\": 30, \"loan_type\": \"mortgages\", \"shock\": 0}\n",
    "\n",
    "results = mesa.batch_run(\n",
    "    BankRunModel,\n",
    "    parameters=params,\n",
    "    iterations=1000,\n",
    "    max_steps=119,\n",
    "    number_processes=1,\n",
    "    data_collection_period=1,\n",
    "    display_progress=True,\n",
    ")\n",
    "\n",
    "results_df = pd.DataFrame(results)\n",
    "results_df.to_csv('18.csv', index=False)"
   ]
  },
  {
   "cell_type": "markdown",
   "metadata": {},
   "source": [
    "Calculate metrics"
   ]
  },
  {
   "cell_type": "markdown",
   "metadata": {},
   "source": [
    "Read in a CSV"
   ]
  },
  {
   "cell_type": "code",
   "execution_count": 3,
   "metadata": {},
   "outputs": [],
   "source": [
    "results_df = pd.read_csv(\"4.csv\")"
   ]
  },
  {
   "cell_type": "code",
   "execution_count": 4,
   "metadata": {},
   "outputs": [
    {
     "name": "stdout",
     "output_type": "stream",
     "text": [
      "Liquidity Event Percentage: 97.7\n",
      "All Runs:\n",
      "Percentage of Runners - Mean: 31.42\n",
      "Percentage of Runners - Median: 24.7\n",
      "Percentage of Runners - Standard Deviation: 18.3\n",
      "Runs With a Liquidity Event:\n",
      "Percentage of Runners - Mean: 30.31\n",
      "Percentage of Runners - Median: 24.4\n",
      "Percentage of Runners - Standard Deviation: 16.99\n",
      "Liquidity Event Time Period - Mean: 11.76\n",
      "Liquidity Event Time Period - Median: 4.0\n",
      "Liquidity Event Time Period - Standard Deviation: 21.03\n"
     ]
    }
   ],
   "source": [
    "results_filtered = results_df[(results_df.Step == 119)]\n",
    "liquidity_event = results_filtered[\"liquidity_event\"]\n",
    "runners_percent = results_filtered[\"adopters_percent\"]\n",
    "\n",
    "results_filtered_liquidity_event = results_filtered[(results_filtered.liquidity_event == 1)]\n",
    "runners_percent_liquidity_event = results_filtered_liquidity_event[\"adopters_percent\"]\n",
    "liquidity_event_month = results_filtered_liquidity_event[\"liquidity_event_month\"]\n",
    "\n",
    "print(\"Liquidity Event Percentage:\", round(liquidity_event.mean()*100,2))\n",
    "print(\"All Runs:\")\n",
    "print(\"Percentage of Runners - Mean:\", round(runners_percent.mean(),2))\n",
    "print(\"Percentage of Runners - Median:\", round(runners_percent.median(),2))\n",
    "print(\"Percentage of Runners - Standard Deviation:\", round(runners_percent.std(),2))\n",
    "print(\"Runs With a Liquidity Event:\")\n",
    "print(\"Percentage of Runners - Mean:\", round(runners_percent_liquidity_event.mean(),2))\n",
    "print(\"Percentage of Runners - Median:\", round(runners_percent_liquidity_event.median(),2))\n",
    "print(\"Percentage of Runners - Standard Deviation:\", round(runners_percent_liquidity_event.std(),2))\n",
    "print(\"Liquidity Event Time Period - Mean:\", round(liquidity_event_month.mean(),2))\n",
    "print(\"Liquidity Event Time Period - Median:\", round(liquidity_event_month.median(),2))\n",
    "print(\"Liquidity Event Time Period - Standard Deviation:\", round(liquidity_event_month.std(),2))\n"
   ]
  }
 ],
 "metadata": {
  "kernelspec": {
   "display_name": "wage_distribution_model",
   "language": "python",
   "name": "python3"
  },
  "language_info": {
   "codemirror_mode": {
    "name": "ipython",
    "version": 3
   },
   "file_extension": ".py",
   "mimetype": "text/x-python",
   "name": "python",
   "nbconvert_exporter": "python",
   "pygments_lexer": "ipython3",
   "version": "3.12.3"
  },
  "orig_nbformat": 4,
  "vscode": {
   "interpreter": {
    "hash": "8115d96af1a46324e723e06469e6d4d72c756079b01fd8d0c77cb9de4ea70deb"
   }
  }
 },
 "nbformat": 4,
 "nbformat_minor": 2
}
